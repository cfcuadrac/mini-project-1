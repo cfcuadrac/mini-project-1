{
 "cells": [
  {
   "cell_type": "code",
   "execution_count": 49,
   "id": "a72c65cf-d740-4a79-bca1-1af7eefaada1",
   "metadata": {},
   "outputs": [],
   "source": [
    "import pandas as pd\n",
    "\n",
    "df1 = pd.read_csv('gdp_df.csv')"
   ]
  },
  {
   "cell_type": "code",
   "execution_count": 50,
   "id": "e90d0e78-8684-43e2-94f9-df9e1b31d095",
   "metadata": {},
   "outputs": [
    {
     "data": {
      "text/html": [
       "<div>\n",
       "<style scoped>\n",
       "    .dataframe tbody tr th:only-of-type {\n",
       "        vertical-align: middle;\n",
       "    }\n",
       "\n",
       "    .dataframe tbody tr th {\n",
       "        vertical-align: top;\n",
       "    }\n",
       "\n",
       "    .dataframe thead th {\n",
       "        text-align: right;\n",
       "    }\n",
       "</style>\n",
       "<table border=\"1\" class=\"dataframe\">\n",
       "  <thead>\n",
       "    <tr style=\"text-align: right;\">\n",
       "      <th></th>\n",
       "      <th>country</th>\n",
       "      <th>year</th>\n",
       "      <th>anxiety_rate</th>\n",
       "      <th>depressive_disorder_rate</th>\n",
       "      <th>gdp_per_capita</th>\n",
       "    </tr>\n",
       "  </thead>\n",
       "  <tbody>\n",
       "    <tr>\n",
       "      <th>0</th>\n",
       "      <td>Afghanistan</td>\n",
       "      <td>2009</td>\n",
       "      <td>4.695</td>\n",
       "      <td>4.949</td>\n",
       "      <td>1519.693</td>\n",
       "    </tr>\n",
       "    <tr>\n",
       "      <th>1</th>\n",
       "      <td>Afghanistan</td>\n",
       "      <td>2010</td>\n",
       "      <td>4.702</td>\n",
       "      <td>4.947</td>\n",
       "      <td>1710.575</td>\n",
       "    </tr>\n",
       "    <tr>\n",
       "      <th>2</th>\n",
       "      <td>Afghanistan</td>\n",
       "      <td>2011</td>\n",
       "      <td>4.716</td>\n",
       "      <td>4.945</td>\n",
       "      <td>1699.488</td>\n",
       "    </tr>\n",
       "    <tr>\n",
       "      <th>3</th>\n",
       "      <td>Afghanistan</td>\n",
       "      <td>2012</td>\n",
       "      <td>4.739</td>\n",
       "      <td>4.945</td>\n",
       "      <td>1914.774</td>\n",
       "    </tr>\n",
       "    <tr>\n",
       "      <th>4</th>\n",
       "      <td>Afghanistan</td>\n",
       "      <td>2013</td>\n",
       "      <td>4.767</td>\n",
       "      <td>4.944</td>\n",
       "      <td>2015.515</td>\n",
       "    </tr>\n",
       "    <tr>\n",
       "      <th>...</th>\n",
       "      <td>...</td>\n",
       "      <td>...</td>\n",
       "      <td>...</td>\n",
       "      <td>...</td>\n",
       "      <td>...</td>\n",
       "    </tr>\n",
       "    <tr>\n",
       "      <th>1834</th>\n",
       "      <td>Zimbabwe</td>\n",
       "      <td>2015</td>\n",
       "      <td>3.184</td>\n",
       "      <td>3.408</td>\n",
       "      <td>2679.508</td>\n",
       "    </tr>\n",
       "    <tr>\n",
       "      <th>1835</th>\n",
       "      <td>Zimbabwe</td>\n",
       "      <td>2016</td>\n",
       "      <td>3.187</td>\n",
       "      <td>3.411</td>\n",
       "      <td>2806.469</td>\n",
       "    </tr>\n",
       "    <tr>\n",
       "      <th>1836</th>\n",
       "      <td>Zimbabwe</td>\n",
       "      <td>2017</td>\n",
       "      <td>3.188</td>\n",
       "      <td>3.412</td>\n",
       "      <td>3795.642</td>\n",
       "    </tr>\n",
       "    <tr>\n",
       "      <th>1837</th>\n",
       "      <td>Zimbabwe</td>\n",
       "      <td>2018</td>\n",
       "      <td>3.172</td>\n",
       "      <td>3.407</td>\n",
       "      <td>4017.222</td>\n",
       "    </tr>\n",
       "    <tr>\n",
       "      <th>1838</th>\n",
       "      <td>Zimbabwe</td>\n",
       "      <td>2019</td>\n",
       "      <td>3.137</td>\n",
       "      <td>3.395</td>\n",
       "      <td>3783.548</td>\n",
       "    </tr>\n",
       "  </tbody>\n",
       "</table>\n",
       "<p>1839 rows × 5 columns</p>\n",
       "</div>"
      ],
      "text/plain": [
       "          country  year  anxiety_rate  depressive_disorder_rate  \\\n",
       "0     Afghanistan  2009         4.695                     4.949   \n",
       "1     Afghanistan  2010         4.702                     4.947   \n",
       "2     Afghanistan  2011         4.716                     4.945   \n",
       "3     Afghanistan  2012         4.739                     4.945   \n",
       "4     Afghanistan  2013         4.767                     4.944   \n",
       "...           ...   ...           ...                       ...   \n",
       "1834     Zimbabwe  2015         3.184                     3.408   \n",
       "1835     Zimbabwe  2016         3.187                     3.411   \n",
       "1836     Zimbabwe  2017         3.188                     3.412   \n",
       "1837     Zimbabwe  2018         3.172                     3.407   \n",
       "1838     Zimbabwe  2019         3.137                     3.395   \n",
       "\n",
       "      gdp_per_capita  \n",
       "0           1519.693  \n",
       "1           1710.575  \n",
       "2           1699.488  \n",
       "3           1914.774  \n",
       "4           2015.515  \n",
       "...              ...  \n",
       "1834        2679.508  \n",
       "1835        2806.469  \n",
       "1836        3795.642  \n",
       "1837        4017.222  \n",
       "1838        3783.548  \n",
       "\n",
       "[1839 rows x 5 columns]"
      ]
     },
     "execution_count": 50,
     "metadata": {},
     "output_type": "execute_result"
    }
   ],
   "source": [
    "df1"
   ]
  },
  {
   "cell_type": "code",
   "execution_count": 51,
   "id": "6e28adb6-6db9-4fb1-84d4-8e1e5e298aef",
   "metadata": {},
   "outputs": [],
   "source": [
    "# need to define gdp_per_capita:\n",
    "gdp_per_capita = df1.pivot(index='country', columns='year', values='gdp_per_capita')"
   ]
  },
  {
   "cell_type": "code",
   "execution_count": 53,
   "id": "ab035567-8acd-482d-8ca0-e6f7512273cc",
   "metadata": {},
   "outputs": [],
   "source": [
    "GDP_change = gdp_per_capita[2014] - gdp_per_capita[2009]"
   ]
  },
  {
   "cell_type": "code",
   "execution_count": 54,
   "id": "cd246f3e-0661-4364-a108-99e2d97d2c1f",
   "metadata": {},
   "outputs": [
    {
     "data": {
      "text/plain": [
       "country\n",
       "Afghanistan             549.731\n",
       "Albania                2446.239\n",
       "Algeria                 280.888\n",
       "Angola                 1708.623\n",
       "Antigua and Barbuda   -3396.389\n",
       "                         ...   \n",
       "Vanuatu                 111.306\n",
       "Vietnam                1792.471\n",
       "World                  2745.661\n",
       "Zambia                  606.305\n",
       "Zimbabwe               1079.634\n",
       "Length: 169, dtype: float64"
      ]
     },
     "execution_count": 54,
     "metadata": {},
     "output_type": "execute_result"
    }
   ],
   "source": [
    "GDP_change"
   ]
  },
  {
   "cell_type": "code",
   "execution_count": 55,
   "id": "ae062b43-f24d-40fb-9758-40da49b07c23",
   "metadata": {},
   "outputs": [],
   "source": [
    "anxiety_rate = df1.pivot(index='country', columns='year', values='anxiety_rate')"
   ]
  },
  {
   "cell_type": "code",
   "execution_count": 56,
   "id": "cc9e27ab-b2ae-4577-b1c9-87356d56e572",
   "metadata": {},
   "outputs": [],
   "source": [
    "Anxiety_change = anxiety_rate[2014] - anxiety_rate[2009]"
   ]
  },
  {
   "cell_type": "code",
   "execution_count": 57,
   "id": "5d3373b6-279f-4ee9-af02-9b33a24149c2",
   "metadata": {},
   "outputs": [
    {
     "data": {
      "text/plain": [
       "country\n",
       "Afghanistan            0.098\n",
       "Albania                0.062\n",
       "Algeria                0.053\n",
       "Angola                -0.011\n",
       "Antigua and Barbuda    0.042\n",
       "                       ...  \n",
       "Vanuatu                0.048\n",
       "Vietnam                0.251\n",
       "World                 -0.067\n",
       "Zambia                 0.120\n",
       "Zimbabwe              -0.005\n",
       "Length: 169, dtype: float64"
      ]
     },
     "execution_count": 57,
     "metadata": {},
     "output_type": "execute_result"
    }
   ],
   "source": [
    "Anxiety_change"
   ]
  },
  {
   "cell_type": "code",
   "execution_count": 58,
   "id": "e5b11e19-e641-40c4-bbac-5ea8b6f04842",
   "metadata": {},
   "outputs": [],
   "source": [
    "depressive_disorder_rate = df1.pivot(index='country', columns='year', values='depressive_disorder_rate')"
   ]
  },
  {
   "cell_type": "code",
   "execution_count": 59,
   "id": "69254592-4e69-4a99-ad5b-f9ff9fddff74",
   "metadata": {},
   "outputs": [],
   "source": [
    "depressive_disorder_change = depressive_disorder_rate[2014] - depressive_disorder_rate[2009]"
   ]
  },
  {
   "cell_type": "code",
   "execution_count": 60,
   "id": "c0f2e66c-3f01-41b2-a247-f73e581fc34b",
   "metadata": {},
   "outputs": [
    {
     "data": {
      "text/plain": [
       "country\n",
       "Afghanistan           -0.004\n",
       "Albania               -0.005\n",
       "Algeria                0.019\n",
       "Angola                -0.016\n",
       "Antigua and Barbuda    0.045\n",
       "                       ...  \n",
       "Vanuatu               -0.019\n",
       "Vietnam               -0.027\n",
       "World                 -0.009\n",
       "Zambia                 0.075\n",
       "Zimbabwe               0.061\n",
       "Length: 169, dtype: float64"
      ]
     },
     "execution_count": 60,
     "metadata": {},
     "output_type": "execute_result"
    }
   ],
   "source": [
    "depressive_disorder_change"
   ]
  },
  {
   "cell_type": "code",
   "execution_count": 68,
   "id": "bd1a7bba-c38d-4eaa-8aff-f9894daabeb0",
   "metadata": {},
   "outputs": [],
   "source": [
    "# Merge into a new dataframe for analysis\n",
    "\n",
    "gdp_change = gdp_per_capita[2014] - gdp_per_capita[2009]\n",
    "anxiety_change = anxiety_rate[2014] - anxiety_rate[2009]\n",
    "depressive_change = depressive_disorder_rate[2014] - depressive_disorder_rate[2009]\n",
    "\n",
    "# Merge into one DataFrame\n",
    "change_df = pd.DataFrame({\n",
    "    'gdp_change': gdp_change,\n",
    "    'anxiety_change': anxiety_change,\n",
    "    'depressive_change': depressive_change  \n",
    "}).dropna()"
   ]
  },
  {
   "cell_type": "code",
   "execution_count": 69,
   "id": "b14fabea-2c10-4a36-9609-a4b84ca2e7e5",
   "metadata": {},
   "outputs": [
    {
     "data": {
      "text/html": [
       "<div>\n",
       "<style scoped>\n",
       "    .dataframe tbody tr th:only-of-type {\n",
       "        vertical-align: middle;\n",
       "    }\n",
       "\n",
       "    .dataframe tbody tr th {\n",
       "        vertical-align: top;\n",
       "    }\n",
       "\n",
       "    .dataframe thead th {\n",
       "        text-align: right;\n",
       "    }\n",
       "</style>\n",
       "<table border=\"1\" class=\"dataframe\">\n",
       "  <thead>\n",
       "    <tr style=\"text-align: right;\">\n",
       "      <th></th>\n",
       "      <th>gdp_change</th>\n",
       "      <th>anxiety_change</th>\n",
       "      <th>depressive_change</th>\n",
       "    </tr>\n",
       "    <tr>\n",
       "      <th>country</th>\n",
       "      <th></th>\n",
       "      <th></th>\n",
       "      <th></th>\n",
       "    </tr>\n",
       "  </thead>\n",
       "  <tbody>\n",
       "    <tr>\n",
       "      <th>Afghanistan</th>\n",
       "      <td>549.731</td>\n",
       "      <td>0.098</td>\n",
       "      <td>-0.004</td>\n",
       "    </tr>\n",
       "    <tr>\n",
       "      <th>Albania</th>\n",
       "      <td>2446.239</td>\n",
       "      <td>0.062</td>\n",
       "      <td>-0.005</td>\n",
       "    </tr>\n",
       "    <tr>\n",
       "      <th>Algeria</th>\n",
       "      <td>280.888</td>\n",
       "      <td>0.053</td>\n",
       "      <td>0.019</td>\n",
       "    </tr>\n",
       "    <tr>\n",
       "      <th>Angola</th>\n",
       "      <td>1708.623</td>\n",
       "      <td>-0.011</td>\n",
       "      <td>-0.016</td>\n",
       "    </tr>\n",
       "    <tr>\n",
       "      <th>Antigua and Barbuda</th>\n",
       "      <td>-3396.389</td>\n",
       "      <td>0.042</td>\n",
       "      <td>0.045</td>\n",
       "    </tr>\n",
       "    <tr>\n",
       "      <th>...</th>\n",
       "      <td>...</td>\n",
       "      <td>...</td>\n",
       "      <td>...</td>\n",
       "    </tr>\n",
       "    <tr>\n",
       "      <th>Vanuatu</th>\n",
       "      <td>111.306</td>\n",
       "      <td>0.048</td>\n",
       "      <td>-0.019</td>\n",
       "    </tr>\n",
       "    <tr>\n",
       "      <th>Vietnam</th>\n",
       "      <td>1792.471</td>\n",
       "      <td>0.251</td>\n",
       "      <td>-0.027</td>\n",
       "    </tr>\n",
       "    <tr>\n",
       "      <th>World</th>\n",
       "      <td>2745.661</td>\n",
       "      <td>-0.067</td>\n",
       "      <td>-0.009</td>\n",
       "    </tr>\n",
       "    <tr>\n",
       "      <th>Zambia</th>\n",
       "      <td>606.305</td>\n",
       "      <td>0.120</td>\n",
       "      <td>0.075</td>\n",
       "    </tr>\n",
       "    <tr>\n",
       "      <th>Zimbabwe</th>\n",
       "      <td>1079.634</td>\n",
       "      <td>-0.005</td>\n",
       "      <td>0.061</td>\n",
       "    </tr>\n",
       "  </tbody>\n",
       "</table>\n",
       "<p>166 rows × 3 columns</p>\n",
       "</div>"
      ],
      "text/plain": [
       "                     gdp_change  anxiety_change  depressive_change\n",
       "country                                                           \n",
       "Afghanistan             549.731           0.098             -0.004\n",
       "Albania                2446.239           0.062             -0.005\n",
       "Algeria                 280.888           0.053              0.019\n",
       "Angola                 1708.623          -0.011             -0.016\n",
       "Antigua and Barbuda   -3396.389           0.042              0.045\n",
       "...                         ...             ...                ...\n",
       "Vanuatu                 111.306           0.048             -0.019\n",
       "Vietnam                1792.471           0.251             -0.027\n",
       "World                  2745.661          -0.067             -0.009\n",
       "Zambia                  606.305           0.120              0.075\n",
       "Zimbabwe               1079.634          -0.005              0.061\n",
       "\n",
       "[166 rows x 3 columns]"
      ]
     },
     "execution_count": 69,
     "metadata": {},
     "output_type": "execute_result"
    }
   ],
   "source": [
    "change_df"
   ]
  },
  {
   "cell_type": "code",
   "execution_count": 70,
   "id": "8e908a5f-e319-4f12-83d2-a8477ebc8b45",
   "metadata": {},
   "outputs": [],
   "source": [
    "import seaborn as sns"
   ]
  },
  {
   "cell_type": "code",
   "execution_count": 72,
   "id": "cff4691d-01cb-4ad0-b86b-3f74bfe926b7",
   "metadata": {},
   "outputs": [
    {
     "data": {
      "image/png": "[encoded data removed]",
      "text/plain": [
       "<Figure size 1000x600 with 1 Axes>"
      ]
     },
     "metadata": {},
     "output_type": "display_data"
    }
   ],
   "source": [
    "import seaborn as sns\n",
    "import matplotlib.pyplot as plt\n",
    "\n",
    "plt.figure(figsize=(10, 6))\n",
    "sns.regplot(data=change_df, x='gdp_change', y='anxiety_change')\n",
    "plt.title('Change in GDP vs Change in Anxiety Rates (2009-2014)')\n",
    "plt.xlabel('GDP per Capita Change')\n",
    "plt.ylabel('Anxiety Rate Change')\n",
    "plt.axhline(0, color='gray', linestyle='--')\n",
    "plt.axvline(0, color='gray', linestyle='--')\n",
    "plt.grid(True)\n",
    "plt.show()"
   ]
  }
 ],
 "metadata": {
  "kernelspec": {
   "display_name": "Python [conda env:base] *",
   "language": "python",
   "name": "conda-base-py"
  },
  "language_info": {
   "codemirror_mode": {
    "name": "ipython",
    "version": 3
   },
   "file_extension": ".py",
   "mimetype": "text/x-python",
   "name": "python",
   "nbconvert_exporter": "python",
   "pygments_lexer": "ipython3",
   "version": "3.13.5"
  }
 },
 "nbformat": 4,
 "nbformat_minor": 5
}
